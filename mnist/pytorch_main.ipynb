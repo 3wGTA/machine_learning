{
 "cells": [
  {
   "cell_type": "markdown",
   "metadata": {},
   "source": [
    "# 使用pytorch实现mnist数据集"
   ]
  },
  {
   "cell_type": "code",
   "execution_count": null,
   "metadata": {},
   "outputs": [],
   "source": [
    "import os\n",
    "import struct\n",
    "import numpy as np\n",
    "import torch.nn as nn\n",
    "import torch.nn.functional as F\n",
    "import torch\n",
    "from matplotlib import pyplot as plt"
   ]
  },
  {
   "cell_type": "markdown",
   "metadata": {},
   "source": [
    "[mnist 数据集官网](http://yann.lecun.com/exdb/mnist/)"
   ]
  },
  {
   "cell_type": "code",
   "execution_count": null,
   "metadata": {},
   "outputs": [],
   "source": [
    "def read_mnist():\n",
    "    \"\"\"\n",
    "    官方下载数据集，然后制作数据\n",
    "    需要测试集请前往官网\n",
    "    \"\"\"\n",
    "    with open(\"train/\"+\"train-labels.idx1-ubyte\",\"rb\") as f:\n",
    "        magic, n = struct.unpack(\">II\",f.read(8))\n",
    "        labels = np.fromfile(f,dtype=np.uint8).reshape(n).astype(\"int64\")\n",
    "\n",
    "    with open(\"train/\"+\"train-images.idx3-ubyte\",\"rb\") as f:\n",
    "        magic, images_num, rows, cols = struct.unpack(\">IIII\",f.read(16))\n",
    "        images = np.fromfile(f,dtype=np.uint8).reshape(images_num, 1, rows, cols).astype('float32')\n",
    "    return labels, images"
   ]
  },
  {
   "cell_type": "code",
   "execution_count": null,
   "metadata": {},
   "outputs": [],
   "source": [
    "from torch.utils.data import Dataset,DataLoader\n",
    "\n",
    "labels, images = read_mnist()\n",
    "batch_size = 32\n",
    "class dataset(Dataset):\n",
    "    def __init__(self, images, labels):\n",
    "        self.images = images\n",
    "        self.labels = labels\n",
    "        self.len = len(labels)\n",
    "    def __getitem__(self, index):\n",
    "        return torch.tensor(self.images[index]), torch.tensor(self.labels[index])\n",
    "    def __len__(self):\n",
    "        return self.len\n",
    "    \n",
    "ratio = 0.7\n",
    "offset = int(ratio*len(labels))\n",
    "train_dataset = dataset(images[:offset], labels[:offset])\n",
    "train_data = DataLoader(train_dataset, batch_size, shuffle=True)"
   ]
  },
  {
   "cell_type": "code",
   "execution_count": null,
   "metadata": {},
   "outputs": [],
   "source": [
    "# 使用卷积神经网络来完成识别\n",
    "\"\"\"\n",
    "非常简单的卷积网络，没有池化等操作\n",
    "\"\"\"\n",
    "class neural_network(nn.Module):\n",
    "    def __init__(self, rows, cols, num_class):\n",
    "        super().__init__()\n",
    "        self.conv1 = nn.Conv2d(1, 100, 3) # 20\n",
    "        self.conv2 = nn.Conv2d(100, 200, 3) # 12\n",
    "        self.fc = nn.Linear(24,100) # pytorch 的全连接层 in_feature, out_feature\n",
    "        self.pre = nn.Linear(100*24*200, num_class)\n",
    "    \n",
    "    def forward(self, img):\n",
    "        conv1 = self.conv1(img)\n",
    "        conv2 = self.conv2(conv1)\n",
    "        fc = self.fc(conv2)\n",
    "        fc = fc.view(-1, 100*24*200)\n",
    "        predict = self.pre(fc)\n",
    "        return predict"
   ]
  },
  {
   "cell_type": "code",
   "execution_count": null,
   "metadata": {},
   "outputs": [],
   "source": [
    "import torch.nn.functional as F\n",
    "\n",
    "def inference_program(predict, label):\n",
    "    loss_func = F.cross_entropy\n",
    "    \n",
    "    def accuracy(x,y):\n",
    "        x_arg = x.argmax(dim=1)\n",
    "        return (x_arg==y).float().sum()/(len(y))\n",
    "    \n",
    "    cost = loss_func(predict, label)\n",
    "    acc = accuracy(predict, label)\n",
    "    return cost, acc"
   ]
  },
  {
   "cell_type": "code",
   "execution_count": null,
   "metadata": {},
   "outputs": [],
   "source": [
    "from torch.autograd import Variable\n",
    "\n",
    "device = torch.device(\"cuda:0\" if torch.cuda.is_available() else \"cpu\")\n",
    "\n",
    "net = neural_network(28,28,10)\n",
    "net = net.to(device)\n",
    "opt = torch.optim.Adam(net.parameters(), lr=0.001)\n",
    "print(net)\n",
    "\n",
    "for epoch in range(10):\n",
    "    for step_id, data in enumerate(train_data):\n",
    "        var_x, label = Variable(data[0]), Variable(data[1])\n",
    "        var_x = var_x.to(device)\n",
    "        label = label.to(device)\n",
    "        predict = net(var_x)\n",
    "        cost, acc = inference_program(predict, label)\n",
    "        cost.backward()\n",
    "        opt.step()\n",
    "        opt.zero_grad()\n",
    "        if step_id %100 == 0:\n",
    "            print(\"epoch {} step_id {} cost {} acc {}\".format(epoch, step_id, cost, acc))"
   ]
  }
 ],
 "metadata": {
  "kernelspec": {
   "display_name": "Python 3",
   "language": "python",
   "name": "python3"
  },
  "language_info": {
   "codemirror_mode": {
    "name": "ipython",
    "version": 3
   },
   "file_extension": ".py",
   "mimetype": "text/x-python",
   "name": "python",
   "nbconvert_exporter": "python",
   "pygments_lexer": "ipython3",
   "version": "3.7.6-final"
  }
 },
 "nbformat": 4,
 "nbformat_minor": 4
}